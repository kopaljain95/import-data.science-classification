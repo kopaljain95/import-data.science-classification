{
 "cells": [
  {
   "cell_type": "markdown",
   "metadata": {},
   "source": [
    "# DATA PREPROCESSING"
   ]
  },
  {
   "cell_type": "markdown",
   "metadata": {},
   "source": [
    "#### Import Libraries"
   ]
  },
  {
   "cell_type": "code",
   "execution_count": 1,
   "metadata": {},
   "outputs": [],
   "source": [
    "import numpy as np\n",
    "import matplotlib.pyplot as plt\n",
    "import pandas as pd\n",
    "import seaborn as sns\n",
    "\n",
    "%matplotlib inline"
   ]
  },
  {
   "cell_type": "markdown",
   "metadata": {},
   "source": [
    "#### Read & Store Data"
   ]
  },
  {
   "cell_type": "code",
   "execution_count": 2,
   "metadata": {},
   "outputs": [],
   "source": [
    "colnames = ['BI-RADS_ASSESSMENT','AGE', 'SHAPE', 'MARGIN', 'DENSITY', 'SEVERITY']\n",
    "\n",
    "df = pd.read_csv('mammographic_masses.csv', header=None, names=colnames) # Read csv file"
   ]
  },
  {
   "cell_type": "markdown",
   "metadata": {},
   "source": [
    "#### Copy Data"
   ]
  },
  {
   "cell_type": "code",
   "execution_count": 3,
   "metadata": {},
   "outputs": [],
   "source": [
    "df_clean = df.copy()"
   ]
  },
  {
   "cell_type": "code",
   "execution_count": 4,
   "metadata": {},
   "outputs": [],
   "source": [
    "df.names       = 'Mammographic Full Dataset'\n",
    "df_clean.names = 'Mammographic Cleaned Dataset'"
   ]
  },
  {
   "cell_type": "markdown",
   "metadata": {},
   "source": [
    "#### Display Top 5 Rows"
   ]
  },
  {
   "cell_type": "code",
   "execution_count": 5,
   "metadata": {},
   "outputs": [
    {
     "data": {
      "text/html": [
       "<div>\n",
       "<style scoped>\n",
       "    .dataframe tbody tr th:only-of-type {\n",
       "        vertical-align: middle;\n",
       "    }\n",
       "\n",
       "    .dataframe tbody tr th {\n",
       "        vertical-align: top;\n",
       "    }\n",
       "\n",
       "    .dataframe thead th {\n",
       "        text-align: right;\n",
       "    }\n",
       "</style>\n",
       "<table border=\"1\" class=\"dataframe\">\n",
       "  <thead>\n",
       "    <tr style=\"text-align: right;\">\n",
       "      <th></th>\n",
       "      <th>BI-RADS_ASSESSMENT</th>\n",
       "      <th>AGE</th>\n",
       "      <th>SHAPE</th>\n",
       "      <th>MARGIN</th>\n",
       "      <th>DENSITY</th>\n",
       "      <th>SEVERITY</th>\n",
       "    </tr>\n",
       "  </thead>\n",
       "  <tbody>\n",
       "    <tr>\n",
       "      <td>0</td>\n",
       "      <td>5</td>\n",
       "      <td>67</td>\n",
       "      <td>3</td>\n",
       "      <td>5</td>\n",
       "      <td>3</td>\n",
       "      <td>1</td>\n",
       "    </tr>\n",
       "    <tr>\n",
       "      <td>1</td>\n",
       "      <td>4</td>\n",
       "      <td>43</td>\n",
       "      <td>1</td>\n",
       "      <td>1</td>\n",
       "      <td>?</td>\n",
       "      <td>1</td>\n",
       "    </tr>\n",
       "    <tr>\n",
       "      <td>2</td>\n",
       "      <td>5</td>\n",
       "      <td>58</td>\n",
       "      <td>4</td>\n",
       "      <td>5</td>\n",
       "      <td>3</td>\n",
       "      <td>1</td>\n",
       "    </tr>\n",
       "    <tr>\n",
       "      <td>3</td>\n",
       "      <td>4</td>\n",
       "      <td>28</td>\n",
       "      <td>1</td>\n",
       "      <td>1</td>\n",
       "      <td>3</td>\n",
       "      <td>0</td>\n",
       "    </tr>\n",
       "    <tr>\n",
       "      <td>4</td>\n",
       "      <td>5</td>\n",
       "      <td>74</td>\n",
       "      <td>1</td>\n",
       "      <td>5</td>\n",
       "      <td>?</td>\n",
       "      <td>1</td>\n",
       "    </tr>\n",
       "  </tbody>\n",
       "</table>\n",
       "</div>"
      ],
      "text/plain": [
       "  BI-RADS_ASSESSMENT AGE SHAPE MARGIN DENSITY  SEVERITY\n",
       "0                  5  67     3      5       3         1\n",
       "1                  4  43     1      1       ?         1\n",
       "2                  5  58     4      5       3         1\n",
       "3                  4  28     1      1       3         0\n",
       "4                  5  74     1      5       ?         1"
      ]
     },
     "execution_count": 5,
     "metadata": {},
     "output_type": "execute_result"
    }
   ],
   "source": [
    "df.head(5)"
   ]
  },
  {
   "cell_type": "markdown",
   "metadata": {},
   "source": [
    "#### Check Info"
   ]
  },
  {
   "cell_type": "code",
   "execution_count": 6,
   "metadata": {},
   "outputs": [
    {
     "name": "stdout",
     "output_type": "stream",
     "text": [
      "<class 'pandas.core.frame.DataFrame'>\n",
      "RangeIndex: 961 entries, 0 to 960\n",
      "Data columns (total 6 columns):\n",
      "BI-RADS_ASSESSMENT    961 non-null object\n",
      "AGE                   961 non-null object\n",
      "SHAPE                 961 non-null object\n",
      "MARGIN                961 non-null object\n",
      "DENSITY               961 non-null object\n",
      "SEVERITY              961 non-null int64\n",
      "dtypes: int64(1), object(5)\n",
      "memory usage: 45.2+ KB\n"
     ]
    }
   ],
   "source": [
    "df.info()"
   ]
  },
  {
   "cell_type": "markdown",
   "metadata": {},
   "source": [
    "The dataset used is “Mammographic masses” which is a public dataset from UCI repository (https://archive.ics.uci.edu/ml/datasets/Mammographic+Mass) <br>\n",
    "\n",
    "Purpose: To predict the severity (benign or malignant) of a mammographic mass from BI-RADS attributes and the patient’s age. Number of Attributes: 6 (1 goal field: severity, 1 non-predictive: BI-RADS, 4 predictive attributes) <br>\n",
    "\n",
    "Attribute Information:\n",
    "* BI-RADS assessment: 1 to 5 (ordinal)\n",
    "* Age: patient’s age in years (integer)\n",
    "* Shape (mass shape): round=1, oval=2, lobular=3, irregular=4 (nominal)\n",
    "* Margin (mass margin): circumscribed=1, microlobulated=2, obscured=3, ill-defined=4, spiculated=5 (nominal)\n",
    "* Density (mass density): high=1, iso=2, low=3, fat-containing=4 (ordinal)\n",
    "* Severity: benign=0 or malignant=1 (binomial)"
   ]
  },
  {
   "cell_type": "markdown",
   "metadata": {},
   "source": [
    "#### Check Shape"
   ]
  },
  {
   "cell_type": "code",
   "execution_count": 7,
   "metadata": {},
   "outputs": [
    {
     "data": {
      "text/plain": [
       "(961, 6)"
      ]
     },
     "execution_count": 7,
     "metadata": {},
     "output_type": "execute_result"
    }
   ],
   "source": [
    "df_clean.shape"
   ]
  },
  {
   "cell_type": "markdown",
   "metadata": {},
   "source": [
    "#### Check Missing Values per Column"
   ]
  },
  {
   "cell_type": "code",
   "execution_count": 8,
   "metadata": {},
   "outputs": [
    {
     "name": "stdout",
     "output_type": "stream",
     "text": [
      "Mammographic Cleaned Dataset Features with Null Values:\n",
      "\n",
      " BI-RADS_ASSESSMENT    0\n",
      "AGE                   0\n",
      "SHAPE                 0\n",
      "MARGIN                0\n",
      "DENSITY               0\n",
      "SEVERITY              0\n",
      "dtype: int64\n",
      "\n"
     ]
    }
   ],
   "source": [
    "for data in [df_clean]:\n",
    "    print(\"{} Features with Null Values:\\n\\n {}\\n\".format(data.names, data.isnull().sum()))"
   ]
  },
  {
   "cell_type": "markdown",
   "metadata": {},
   "source": [
    "#### Check Unique Values per Column"
   ]
  },
  {
   "cell_type": "code",
   "execution_count": 9,
   "metadata": {},
   "outputs": [
    {
     "name": "stdout",
     "output_type": "stream",
     "text": [
      "Analysis for column:  BI-RADS_ASSESSMENT \n",
      "\n",
      "Number of Unique values for the given column:  8 \n",
      "\n",
      "Unique Values: \n",
      " ['5' '4' '3' '?' '2' '55' '0' '6'] \n",
      "\n",
      "Frequency of value:\t 0 \t=> \t 5\n",
      "Frequency of value:\t 2 \t=> \t 14\n",
      "Frequency of value:\t 3 \t=> \t 36\n",
      "Frequency of value:\t 4 \t=> \t 547\n",
      "Frequency of value:\t 5 \t=> \t 345\n",
      "Frequency of value:\t 6 \t=> \t 11\n",
      "Frequency of value:\t ? \t=> \t 2\n",
      "\n",
      "xxxxxxxxxxxxxxxxxxxxxxxxxxxxxxxxxxxxxxxxxxxxxxxxxxxxxxxxxxxxxxxxxxxxxxxxxxxxxxxxxxxxxxxxxxxxxxxxxxxxxxxxxxxxxxxxxxxxx\n",
      "\n",
      "Analysis for column:  AGE \n",
      "\n",
      "Number of Unique values for the given column:  74 \n",
      "\n",
      "Unique Values: \n",
      " ['67' '43' '58' '28' '74' '65' '70' '42' '57' '60' '76' '64' '36' '54'\n",
      " '52' '59' '40' '66' '56' '75' '63' '45' '55' '46' '39' '81' '77' '48'\n",
      " '78' '50' '61' '62' '44' '23' '80' '53' '49' '51' '25' '72' '73' '68'\n",
      " '33' '47' '29' '34' '71' '84' '24' '86' '41' '87' '21' '19' '35' '37'\n",
      " '79' '85' '69' '38' '32' '27' '83' '88' '26' '31' '?' '18' '82' '93' '30'\n",
      " '22' '96' '20'] \n",
      "\n",
      "Frequency of value:\t 19 \t=> \t 4\n",
      "Frequency of value:\t 21 \t=> \t 6\n",
      "Frequency of value:\t 22 \t=> \t 3\n",
      "Frequency of value:\t 23 \t=> \t 7\n",
      "Frequency of value:\t 24 \t=> \t 4\n",
      "Frequency of value:\t 25 \t=> \t 3\n",
      "Frequency of value:\t 26 \t=> \t 2\n",
      "Frequency of value:\t 27 \t=> \t 6\n",
      "Frequency of value:\t 28 \t=> \t 5\n",
      "Frequency of value:\t 29 \t=> \t 3\n",
      "Frequency of value:\t 30 \t=> \t 3\n",
      "Frequency of value:\t 31 \t=> \t 7\n",
      "Frequency of value:\t 32 \t=> \t 6\n",
      "Frequency of value:\t 33 \t=> \t 9\n",
      "Frequency of value:\t 34 \t=> \t 9\n",
      "Frequency of value:\t 35 \t=> \t 13\n",
      "Frequency of value:\t 36 \t=> \t 11\n",
      "Frequency of value:\t 37 \t=> \t 8\n",
      "Frequency of value:\t 38 \t=> \t 9\n",
      "Frequency of value:\t 39 \t=> \t 11\n",
      "Frequency of value:\t 40 \t=> \t 19\n",
      "Frequency of value:\t 41 \t=> \t 16\n",
      "Frequency of value:\t 42 \t=> \t 19\n",
      "Frequency of value:\t 43 \t=> \t 20\n",
      "Frequency of value:\t 44 \t=> \t 18\n",
      "Frequency of value:\t 45 \t=> \t 21\n",
      "Frequency of value:\t 46 \t=> \t 28\n",
      "Frequency of value:\t 47 \t=> \t 13\n",
      "Frequency of value:\t 48 \t=> \t 11\n",
      "Frequency of value:\t 49 \t=> \t 23\n",
      "Frequency of value:\t 50 \t=> \t 21\n",
      "Frequency of value:\t 51 \t=> \t 16\n",
      "Frequency of value:\t 52 \t=> \t 20\n",
      "Frequency of value:\t 53 \t=> \t 24\n",
      "Frequency of value:\t 54 \t=> \t 25\n",
      "Frequency of value:\t 55 \t=> \t 26\n",
      "Frequency of value:\t 56 \t=> \t 23\n",
      "Frequency of value:\t 57 \t=> \t 32\n",
      "Frequency of value:\t 58 \t=> \t 23\n",
      "Frequency of value:\t 59 \t=> \t 36\n",
      "Frequency of value:\t 60 \t=> \t 25\n",
      "Frequency of value:\t 61 \t=> \t 13\n",
      "Frequency of value:\t 62 \t=> \t 25\n",
      "Frequency of value:\t 63 \t=> \t 24\n",
      "Frequency of value:\t 64 \t=> \t 27\n",
      "Frequency of value:\t 65 \t=> \t 25\n",
      "Frequency of value:\t 66 \t=> \t 31\n",
      "Frequency of value:\t 67 \t=> \t 32\n",
      "Frequency of value:\t 68 \t=> \t 20\n",
      "Frequency of value:\t 69 \t=> \t 12\n",
      "Frequency of value:\t 70 \t=> \t 13\n",
      "Frequency of value:\t 71 \t=> \t 22\n",
      "Frequency of value:\t 72 \t=> \t 17\n",
      "Frequency of value:\t 73 \t=> \t 9\n",
      "Frequency of value:\t 74 \t=> \t 12\n",
      "Frequency of value:\t 75 \t=> \t 7\n",
      "Frequency of value:\t 76 \t=> \t 17\n",
      "Frequency of value:\t 77 \t=> \t 9\n",
      "Frequency of value:\t 78 \t=> \t 4\n",
      "Frequency of value:\t 79 \t=> \t 8\n",
      "Frequency of value:\t 80 \t=> \t 11\n",
      "Frequency of value:\t 81 \t=> \t 2\n",
      "Frequency of value:\t 83 \t=> \t 5\n",
      "Frequency of value:\t 84 \t=> \t 3\n",
      "Frequency of value:\t 85 \t=> \t 4\n",
      "Frequency of value:\t 86 \t=> \t 5\n",
      "Frequency of value:\t 87 \t=> \t 5\n",
      "Frequency of value:\t ? \t=> \t 5\n",
      "\n",
      "xxxxxxxxxxxxxxxxxxxxxxxxxxxxxxxxxxxxxxxxxxxxxxxxxxxxxxxxxxxxxxxxxxxxxxxxxxxxxxxxxxxxxxxxxxxxxxxxxxxxxxxxxxxxxxxxxxxxx\n",
      "\n",
      "Analysis for column:  SHAPE \n",
      "\n",
      "Number of Unique values for the given column:  5 \n",
      "\n",
      "Unique Values: \n",
      " ['3' '1' '4' '?' '2'] \n",
      "\n",
      "Frequency of value:\t 1 \t=> \t 224\n",
      "Frequency of value:\t 2 \t=> \t 211\n",
      "Frequency of value:\t 3 \t=> \t 95\n",
      "Frequency of value:\t 4 \t=> \t 400\n",
      "Frequency of value:\t ? \t=> \t 31\n",
      "\n",
      "xxxxxxxxxxxxxxxxxxxxxxxxxxxxxxxxxxxxxxxxxxxxxxxxxxxxxxxxxxxxxxxxxxxxxxxxxxxxxxxxxxxxxxxxxxxxxxxxxxxxxxxxxxxxxxxxxxxxx\n",
      "\n",
      "Analysis for column:  MARGIN \n",
      "\n",
      "Number of Unique values for the given column:  6 \n",
      "\n",
      "Unique Values: \n",
      " ['5' '1' '?' '4' '3' '2'] \n",
      "\n",
      "Frequency of value:\t 1 \t=> \t 357\n",
      "Frequency of value:\t 2 \t=> \t 24\n",
      "Frequency of value:\t 3 \t=> \t 116\n",
      "Frequency of value:\t 4 \t=> \t 280\n",
      "Frequency of value:\t 5 \t=> \t 136\n",
      "Frequency of value:\t ? \t=> \t 48\n",
      "\n",
      "xxxxxxxxxxxxxxxxxxxxxxxxxxxxxxxxxxxxxxxxxxxxxxxxxxxxxxxxxxxxxxxxxxxxxxxxxxxxxxxxxxxxxxxxxxxxxxxxxxxxxxxxxxxxxxxxxxxxx\n",
      "\n",
      "Analysis for column:  DENSITY \n",
      "\n",
      "Number of Unique values for the given column:  5 \n",
      "\n",
      "Unique Values: \n",
      " ['3' '?' '1' '2' '4'] \n",
      "\n",
      "Frequency of value:\t 1 \t=> \t 16\n",
      "Frequency of value:\t 2 \t=> \t 59\n",
      "Frequency of value:\t 3 \t=> \t 798\n",
      "Frequency of value:\t 4 \t=> \t 12\n",
      "Frequency of value:\t ? \t=> \t 76\n",
      "\n",
      "xxxxxxxxxxxxxxxxxxxxxxxxxxxxxxxxxxxxxxxxxxxxxxxxxxxxxxxxxxxxxxxxxxxxxxxxxxxxxxxxxxxxxxxxxxxxxxxxxxxxxxxxxxxxxxxxxxxxx\n",
      "\n",
      "Analysis for column:  SEVERITY \n",
      "\n",
      "Number of Unique values for the given column:  2 \n",
      "\n",
      "Unique Values: \n",
      " [1 0] \n",
      "\n",
      "Frequency of value:\t 0 \t=> \t 516\n",
      "Frequency of value:\t 1 \t=> \t 445\n",
      "\n",
      "xxxxxxxxxxxxxxxxxxxxxxxxxxxxxxxxxxxxxxxxxxxxxxxxxxxxxxxxxxxxxxxxxxxxxxxxxxxxxxxxxxxxxxxxxxxxxxxxxxxxxxxxxxxxxxxxxxxxx\n",
      "\n"
     ]
    }
   ],
   "source": [
    "# Find the number, names and count of unique values for each column\n",
    "for x in df_clean.columns.tolist():\n",
    "    print(\"Analysis for column: \", x.upper(), \"\\n\")\n",
    "    print(\"Number of Unique values for the given column: \", len(df_clean[x].unique()), \"\\n\")\n",
    "    print(\"Unique Values: \\n\", df_clean[x].unique(), \"\\n\")\n",
    "    values_counts = sorted(dict(df_clean[x].value_counts()).items(), key=lambda x: x[0])\n",
    "    for key, val in values_counts:\n",
    "        if val > 1:\n",
    "            print('Frequency of value:\\t {} \\t=> \\t {}'.format(key, val))\n",
    "    print(\"\\nxxxxxxxxxxxxxxxxxxxxxxxxxxxxxxxxxxxxxxxxxxxxxxxxxxxxxxxxxxxxxxxxxxxxxxxxxxxxxxxxxxxxxxxxxxxxxxxxxxxxxxxxxxxxxxxxxxxxx\\n\")"
   ]
  },
  {
   "cell_type": "markdown",
   "metadata": {},
   "source": [
    "#### Define Functions for Data Cleaning"
   ]
  },
  {
   "cell_type": "code",
   "execution_count": 10,
   "metadata": {},
   "outputs": [],
   "source": [
    "# Create Function for removing '?' values\n",
    "def cleanFeature(num):\n",
    "    if num == '?':\n",
    "        return np.nan\n",
    "    else:\n",
    "        return num"
   ]
  },
  {
   "cell_type": "markdown",
   "metadata": {},
   "source": [
    "#### Define Functions for Data Engineering"
   ]
  },
  {
   "cell_type": "code",
   "execution_count": 11,
   "metadata": {},
   "outputs": [],
   "source": [
    "# Create Function for sorting out AGE into AGE_GROUP\n",
    "# def getAgeGroup(age):\n",
    "    \n",
    "#     if age < 21:                 \n",
    "#         return 'Teenager'   \n",
    "#     elif age >= 21 and age < 34:   \n",
    "#         return 'YoungAdult'  \n",
    "#     elif age >= 35 and age < 49:   \n",
    "#         return 'Adult'              \n",
    "#     elif age >= 50 and age < 64: \n",
    "#         return 'OldAdult'  \n",
    "#     elif age >= 65:            \n",
    "#         return 'Elderly'   \n",
    "#     else:\n",
    "#         return np.nan"
   ]
  },
  {
   "cell_type": "markdown",
   "metadata": {},
   "source": [
    "#### Clean Existing Columns"
   ]
  },
  {
   "cell_type": "code",
   "execution_count": 12,
   "metadata": {},
   "outputs": [],
   "source": [
    "# Clean existing features\n",
    "for data in [df_clean]:\n",
    "\n",
    "    # Clean BI-RADS_ASSESSMENT Feature\n",
    "    data['BI-RADS_ASSESSMENT'] = data['BI-RADS_ASSESSMENT'].apply(lambda x: cleanFeature(x))\n",
    "    \n",
    "    # Clean AGE Feature & Convert Data Type from Str to Float\n",
    "    data['AGE'] = data['AGE'].apply(lambda x: cleanFeature(x)).astype(float)\n",
    "    \n",
    "    # Clean SHAPE Feature \n",
    "    data['SHAPE'] = data['SHAPE'].apply(lambda x: cleanFeature(x))\n",
    "    \n",
    "    # Clean MARGIN Feature\n",
    "    data['MARGIN'] = data['MARGIN'].apply(lambda x: cleanFeature(x))\n",
    "    \n",
    "    # Clean DENSITY Feature\n",
    "    data['DENSITY'] = data['DENSITY'].apply(lambda x: cleanFeature(x))"
   ]
  },
  {
   "cell_type": "markdown",
   "metadata": {},
   "source": [
    "#### Engineer New Columns"
   ]
  },
  {
   "cell_type": "code",
   "execution_count": 13,
   "metadata": {},
   "outputs": [],
   "source": [
    "# # Create new features\n",
    "# for data in [df_clean]:\n",
    "    \n",
    "#     # Create AGE_GROUP Feature from AGE    \n",
    "#     data['AGE_GROUP'] = data['AGE'].apply(lambda x: getAgeGroup(x))"
   ]
  },
  {
   "cell_type": "markdown",
   "metadata": {},
   "source": [
    "#### Check Missing Values per Column after Data Cleaning & Engineering"
   ]
  },
  {
   "cell_type": "code",
   "execution_count": 14,
   "metadata": {},
   "outputs": [
    {
     "name": "stdout",
     "output_type": "stream",
     "text": [
      "Mammographic Cleaned Dataset Features with Null Values:\n",
      "\n",
      " BI-RADS_ASSESSMENT     2\n",
      "AGE                    5\n",
      "SHAPE                 31\n",
      "MARGIN                48\n",
      "DENSITY               76\n",
      "SEVERITY               0\n",
      "dtype: int64\n",
      "\n"
     ]
    }
   ],
   "source": [
    "for data in [df_clean]:\n",
    "    print(\"{} Features with Null Values:\\n\\n {}\\n\".format(data.names, data.isna().sum()))"
   ]
  },
  {
   "cell_type": "markdown",
   "metadata": {},
   "source": [
    "#### Drop Columns"
   ]
  },
  {
   "cell_type": "code",
   "execution_count": 15,
   "metadata": {},
   "outputs": [],
   "source": [
    "nonPredictiveVals = ['BI-RADS_ASSESSMENT']\n",
    "\n",
    "# redundantInfo = ['AGE']"
   ]
  },
  {
   "cell_type": "code",
   "execution_count": 16,
   "metadata": {},
   "outputs": [],
   "source": [
    "for data in [df_clean]:\n",
    "    \n",
    "    # Drop Cols due to many missing values\n",
    "    data.drop(nonPredictiveVals, axis=1, inplace=True)\n",
    "    \n",
    "    # Drop Cols due to redundant information\n",
    "#     data.drop(redundantInfo, axis=1, inplace=True)"
   ]
  },
  {
   "cell_type": "markdown",
   "metadata": {},
   "source": [
    "#### Drop Rows"
   ]
  },
  {
   "cell_type": "code",
   "execution_count": 17,
   "metadata": {},
   "outputs": [],
   "source": [
    "for data in [df_clean]:\n",
    "    \n",
    "    # Drop Rows with Nan Values in SEVERITY\n",
    "    data.dropna(subset=['SEVERITY'], inplace=True)\n",
    "    \n",
    "    # Drop All Rows with Nan Values in Features\n",
    "    data.dropna(inplace=True)"
   ]
  },
  {
   "cell_type": "markdown",
   "metadata": {},
   "source": [
    "#### Testing"
   ]
  },
  {
   "cell_type": "code",
   "execution_count": 18,
   "metadata": {},
   "outputs": [
    {
     "name": "stdout",
     "output_type": "stream",
     "text": [
      "Mammographic Cleaned Dataset Features with Null Values:\n",
      "\n",
      " AGE         0\n",
      "SHAPE       0\n",
      "MARGIN      0\n",
      "DENSITY     0\n",
      "SEVERITY    0\n",
      "dtype: int64\n",
      "\n"
     ]
    }
   ],
   "source": [
    "# Test 1: Check Missing Values per Column after Data Cleaning & Engineering\n",
    "for data in [df_clean]:\n",
    "    print(\"{} Features with Null Values:\\n\\n {}\\n\".format(data.names, data.isnull().sum()))"
   ]
  },
  {
   "cell_type": "code",
   "execution_count": 19,
   "metadata": {},
   "outputs": [
    {
     "data": {
      "text/plain": [
       "(831, 5)"
      ]
     },
     "execution_count": 19,
     "metadata": {},
     "output_type": "execute_result"
    }
   ],
   "source": [
    "# Test 2: Check the dimensionality reduction\n",
    "df_clean.shape"
   ]
  },
  {
   "cell_type": "code",
   "execution_count": 20,
   "metadata": {},
   "outputs": [
    {
     "data": {
      "text/html": [
       "<div>\n",
       "<style scoped>\n",
       "    .dataframe tbody tr th:only-of-type {\n",
       "        vertical-align: middle;\n",
       "    }\n",
       "\n",
       "    .dataframe tbody tr th {\n",
       "        vertical-align: top;\n",
       "    }\n",
       "\n",
       "    .dataframe thead th {\n",
       "        text-align: right;\n",
       "    }\n",
       "</style>\n",
       "<table border=\"1\" class=\"dataframe\">\n",
       "  <thead>\n",
       "    <tr style=\"text-align: right;\">\n",
       "      <th></th>\n",
       "      <th>AGE</th>\n",
       "      <th>SHAPE</th>\n",
       "      <th>MARGIN</th>\n",
       "      <th>DENSITY</th>\n",
       "      <th>SEVERITY</th>\n",
       "    </tr>\n",
       "  </thead>\n",
       "  <tbody>\n",
       "    <tr>\n",
       "      <td>0</td>\n",
       "      <td>67.0</td>\n",
       "      <td>3</td>\n",
       "      <td>5</td>\n",
       "      <td>3</td>\n",
       "      <td>1</td>\n",
       "    </tr>\n",
       "    <tr>\n",
       "      <td>2</td>\n",
       "      <td>58.0</td>\n",
       "      <td>4</td>\n",
       "      <td>5</td>\n",
       "      <td>3</td>\n",
       "      <td>1</td>\n",
       "    </tr>\n",
       "    <tr>\n",
       "      <td>3</td>\n",
       "      <td>28.0</td>\n",
       "      <td>1</td>\n",
       "      <td>1</td>\n",
       "      <td>3</td>\n",
       "      <td>0</td>\n",
       "    </tr>\n",
       "    <tr>\n",
       "      <td>8</td>\n",
       "      <td>57.0</td>\n",
       "      <td>1</td>\n",
       "      <td>5</td>\n",
       "      <td>3</td>\n",
       "      <td>1</td>\n",
       "    </tr>\n",
       "    <tr>\n",
       "      <td>10</td>\n",
       "      <td>76.0</td>\n",
       "      <td>1</td>\n",
       "      <td>4</td>\n",
       "      <td>3</td>\n",
       "      <td>1</td>\n",
       "    </tr>\n",
       "    <tr>\n",
       "      <td>11</td>\n",
       "      <td>42.0</td>\n",
       "      <td>2</td>\n",
       "      <td>1</td>\n",
       "      <td>3</td>\n",
       "      <td>1</td>\n",
       "    </tr>\n",
       "    <tr>\n",
       "      <td>13</td>\n",
       "      <td>36.0</td>\n",
       "      <td>3</td>\n",
       "      <td>1</td>\n",
       "      <td>2</td>\n",
       "      <td>0</td>\n",
       "    </tr>\n",
       "    <tr>\n",
       "      <td>14</td>\n",
       "      <td>60.0</td>\n",
       "      <td>2</td>\n",
       "      <td>1</td>\n",
       "      <td>2</td>\n",
       "      <td>0</td>\n",
       "    </tr>\n",
       "    <tr>\n",
       "      <td>15</td>\n",
       "      <td>54.0</td>\n",
       "      <td>1</td>\n",
       "      <td>1</td>\n",
       "      <td>3</td>\n",
       "      <td>0</td>\n",
       "    </tr>\n",
       "    <tr>\n",
       "      <td>16</td>\n",
       "      <td>52.0</td>\n",
       "      <td>3</td>\n",
       "      <td>4</td>\n",
       "      <td>3</td>\n",
       "      <td>0</td>\n",
       "    </tr>\n",
       "  </tbody>\n",
       "</table>\n",
       "</div>"
      ],
      "text/plain": [
       "     AGE SHAPE MARGIN DENSITY  SEVERITY\n",
       "0   67.0     3      5       3         1\n",
       "2   58.0     4      5       3         1\n",
       "3   28.0     1      1       3         0\n",
       "8   57.0     1      5       3         1\n",
       "10  76.0     1      4       3         1\n",
       "11  42.0     2      1       3         1\n",
       "13  36.0     3      1       2         0\n",
       "14  60.0     2      1       2         0\n",
       "15  54.0     1      1       3         0\n",
       "16  52.0     3      4       3         0"
      ]
     },
     "execution_count": 20,
     "metadata": {},
     "output_type": "execute_result"
    }
   ],
   "source": [
    "# Test 3: Visualize Cleaned Dataframe\n",
    "df_clean.head(10)"
   ]
  },
  {
   "cell_type": "markdown",
   "metadata": {},
   "source": [
    "#### Export Data"
   ]
  },
  {
   "cell_type": "code",
   "execution_count": 21,
   "metadata": {},
   "outputs": [],
   "source": [
    "df_clean.to_csv('Mammographic_Data_Cleaned.csv', index=False)"
   ]
  },
  {
   "cell_type": "markdown",
   "metadata": {},
   "source": [
    "##### End of document."
   ]
  }
 ],
 "metadata": {
  "kernelspec": {
   "display_name": "Python 3",
   "language": "python",
   "name": "python3"
  },
  "language_info": {
   "codemirror_mode": {
    "name": "ipython",
    "version": 3
   },
   "file_extension": ".py",
   "mimetype": "text/x-python",
   "name": "python",
   "nbconvert_exporter": "python",
   "pygments_lexer": "ipython3",
   "version": "3.7.4"
  }
 },
 "nbformat": 4,
 "nbformat_minor": 2
}
